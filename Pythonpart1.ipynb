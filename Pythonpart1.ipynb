{
 "cells": [
  {
   "cell_type": "code",
   "execution_count": 1,
   "id": "6628b08b-a90e-4bb9-b053-5b19306b7938",
   "metadata": {},
   "outputs": [
    {
     "name": "stdout",
     "output_type": "stream",
     "text": [
      "hello world\n"
     ]
    }
   ],
   "source": [
    "print(\"hello world\")"
   ]
  },
  {
   "cell_type": "code",
   "execution_count": 2,
   "id": "413905f0-9a11-4255-961e-2b4cbdcfc672",
   "metadata": {},
   "outputs": [
    {
     "ename": "SyntaxError",
     "evalue": "invalid syntax (2767393326.py, line 1)",
     "output_type": "error",
     "traceback": [
      "\u001b[1;36m  File \u001b[1;32m\"C:\\Users\\PRAJKT\\AppData\\Local\\Temp\\ipykernel_6308\\2767393326.py\"\u001b[1;36m, line \u001b[1;32m1\u001b[0m\n\u001b[1;33m    print(he author of these Travels, Mr. Lemuel Gulliver, is my ancient and intimate friend; there is likewise some relation\u001b[0m\n\u001b[1;37m             ^\u001b[0m\n\u001b[1;31mSyntaxError\u001b[0m\u001b[1;31m:\u001b[0m invalid syntax\n"
     ]
    }
   ],
   "source": [
    "print(he author of these Travels, Mr. Lemuel Gulliver, is my ancient and intimate friend; there is likewise some relation\n",
    "between us on the mother’s side. About three years ago, Mr.\n",
    "Gulliver growing weary of the concourse of curious people\n",
    "coming to him at his house in Redriff, made a small purchase of land, with a convenient house, near Newark, in\n",
    "Nottinghamshire, his native country; where he now lives\n",
    "retired, yet in good esteem among his neighbours.\n",
    "Although Mr. Gulliver was born in Nottinghamshire,\n",
    "where his father dwelt, yet I have heard him say his family)"
   ]
  },
  {
   "cell_type": "code",
   "execution_count": 3,
   "id": "41d50a21-098d-4dc8-ba0d-8a1ffcc6d18f",
   "metadata": {},
   "outputs": [
    {
     "name": "stdout",
     "output_type": "stream",
     "text": [
      "he author of these Travels, Mr. Lemuel Gulliver, is my ancient and intimate friend; there is likewise some relation\n",
      "between us on the mother’s side. About three years ago, Mr.\n",
      "Gulliver growing weary of the concourse of curious people\n",
      "coming to him at his house in Redriff, made a small purchase of land, with a convenient house, near Newark, in\n",
      "Nottinghamshire, his native country; where he now lives\n",
      "retired, yet in good esteem among his neighbours.\n",
      "Although Mr. Gulliver was born in Nottinghamshire,\n",
      "where his father dwelt, yet I have heard him say his family\n"
     ]
    }
   ],
   "source": [
    "# To print more than one line\n",
    "\n",
    "\n",
    "print('''he author of these Travels, Mr. Lemuel Gulliver, is my ancient and intimate friend; there is likewise some relation\n",
    "between us on the mother’s side. About three years ago, Mr.\n",
    "Gulliver growing weary of the concourse of curious people\n",
    "coming to him at his house in Redriff, made a small purchase of land, with a convenient house, near Newark, in\n",
    "Nottinghamshire, his native country; where he now lives\n",
    "retired, yet in good esteem among his neighbours.\n",
    "Although Mr. Gulliver was born in Nottinghamshire,\n",
    "where his father dwelt, yet I have heard him say his family''')"
   ]
  },
  {
   "cell_type": "code",
   "execution_count": 4,
   "id": "a4993b00-4557-46dc-8616-c7bb226e9749",
   "metadata": {},
   "outputs": [
    {
     "data": {
      "text/plain": [
       "'pip install playsound'"
      ]
     },
     "execution_count": 4,
     "metadata": {},
     "output_type": "execute_result"
    }
   ],
   "source": [
    "'pip install playsound'"
   ]
  },
  {
   "cell_type": "code",
   "execution_count": 5,
   "id": "765c132a-fae8-408e-bf8f-b444e21d82f5",
   "metadata": {},
   "outputs": [
    {
     "ename": "ModuleNotFoundError",
     "evalue": "No module named 'playsound'",
     "output_type": "error",
     "traceback": [
      "\u001b[1;31m---------------------------------------------------------------------------\u001b[0m",
      "\u001b[1;31mModuleNotFoundError\u001b[0m                       Traceback (most recent call last)",
      "\u001b[1;32m~\\AppData\\Local\\Temp\\ipykernel_6308\\2847945653.py\u001b[0m in \u001b[0;36m<module>\u001b[1;34m\u001b[0m\n\u001b[1;32m----> 1\u001b[1;33m \u001b[1;32mfrom\u001b[0m \u001b[0mplaysound\u001b[0m \u001b[1;32mimport\u001b[0m \u001b[0mplaysound\u001b[0m\u001b[1;33m\u001b[0m\u001b[1;33m\u001b[0m\u001b[0m\n\u001b[0m",
      "\u001b[1;31mModuleNotFoundError\u001b[0m: No module named 'playsound'"
     ]
    }
   ],
   "source": [
    "from playsound import playsound"
   ]
  },
  {
   "cell_type": "code",
   "execution_count": 7,
   "id": "e6f7c81f-f611-4871-9b13-a011fd1d528c",
   "metadata": {},
   "outputs": [
    {
     "name": "stdout",
     "output_type": "stream",
     "text": [
      "Requirement already satisfied: playsound in c:\\users\\prajkt\\anaconda3\\lib\\site-packages (1.3.0)\n",
      "Note: you may need to restart the kernel to use updated packages.\n"
     ]
    }
   ],
   "source": [
    "pip install playsound"
   ]
  },
  {
   "cell_type": "code",
   "execution_count": 1,
   "id": "dd3a3937-d616-4b51-b23f-6b8216f924d4",
   "metadata": {},
   "outputs": [],
   "source": [
    "#from playsound import playsound\n",
    "#3playsound('C:\\\\Users\\\\PRAJKT\\\\Downloads\\\\Python Tutorials CodeWithHarry.zip\\\\1. Chapter 1\\\\play.mp3')"
   ]
  },
  {
   "cell_type": "code",
   "execution_count": 2,
   "id": "59918afb-5239-438c-991f-ffd0d52fb571",
   "metadata": {},
   "outputs": [],
   "source": [
    "#import os\n",
    "#playsound('C:\\\\Users\\\\PRAJKT\\\\Downloads\\\\Python Tutorials CodeWithHarry.zip\\\\1. Chapter 1\\\\play.mp3')"
   ]
  },
  {
   "cell_type": "code",
   "execution_count": 1,
   "id": "c00ec3ef-aac4-45cb-b84d-9c9ed038e08b",
   "metadata": {},
   "outputs": [
    {
     "name": "stdout",
     "output_type": "stream",
     "text": [
      "<class 'str'>\n",
      "<class 'int'>\n",
      "<class 'float'>\n"
     ]
    }
   ],
   "source": [
    "a = '''Prajkt'''  # Printing the type of variable\n",
    "b = 34\n",
    "c = 34.8\n",
    "print(type(a))\n",
    "print(type(b))\n",
    "print(type(c))"
   ]
  },
  {
   "cell_type": "code",
   "execution_count": 1,
   "id": "8023b8f2-0391-49fa-be22-051d452ea2e7",
   "metadata": {},
   "outputs": [],
   "source": [
    "a_122 = '''Prajkt'''"
   ]
  },
  {
   "cell_type": "code",
   "execution_count": 3,
   "id": "9e07926d-dbf2-45cc-bc7a-b5d953e84c9d",
   "metadata": {},
   "outputs": [],
   "source": [
    "# variable name is case sensitive"
   ]
  },
  {
   "cell_type": "code",
   "execution_count": 4,
   "id": "1c2e3041-760a-47a1-8817-09861ef6dca2",
   "metadata": {},
   "outputs": [
    {
     "name": "stdout",
     "output_type": "stream",
     "text": [
      " the value of 3+4 is  7\n"
     ]
    }
   ],
   "source": [
    "a = 3\n",
    "b = 4\n",
    "print(' the value of 3+4 is ' , 3+4)"
   ]
  },
  {
   "cell_type": "code",
   "execution_count": 5,
   "id": "0c84a5e5-de03-4b56-889e-e65ad98ac7e9",
   "metadata": {},
   "outputs": [
    {
     "name": "stdout",
     "output_type": "stream",
     "text": [
      " the value of 3+4 is  3+4\n"
     ]
    }
   ],
   "source": [
    "a = 3\n",
    "b = 4\n",
    "print(' the value of 3+4 is ' , '3+4')"
   ]
  },
  {
   "cell_type": "code",
   "execution_count": 6,
   "id": "b3d7c0ea-1ba6-4a21-9a49-dab9e31fc2d8",
   "metadata": {},
   "outputs": [
    {
     "name": "stdout",
     "output_type": "stream",
     "text": [
      "36\n"
     ]
    }
   ],
   "source": [
    "''' Assignment operator '''\n",
    "\n",
    "a = 34\n",
    "a += 2\n",
    "print(a)"
   ]
  },
  {
   "cell_type": "code",
   "execution_count": 7,
   "id": "2ca11de1-5b6f-44fc-a644-1070a42e819b",
   "metadata": {},
   "outputs": [],
   "source": [
    "# python me numbers ko divide krne par float value milti hai "
   ]
  },
  {
   "cell_type": "code",
   "execution_count": 11,
   "id": "6dcc2a06-17c7-49a4-9662-3e368ae479f5",
   "metadata": {},
   "outputs": [
    {
     "name": "stdout",
     "output_type": "stream",
     "text": [
      "True\n"
     ]
    }
   ],
   "source": [
    "''' Comparison operator'''\n",
    "# b = (14<=7)\n",
    "# b = (14>=8)\n",
    "# b = (14<7)\n",
    "# b = (14>8)\n",
    "# b = (14==7)\n",
    "b = (14!=7)\n",
    "print(b)"
   ]
  },
  {
   "cell_type": "code",
   "execution_count": 1,
   "id": "fbe15658-52b4-4c81-a849-7f2a6e67e296",
   "metadata": {},
   "outputs": [],
   "source": [
    "# to comment out fastly use key 'ctrl + /'"
   ]
  },
  {
   "cell_type": "code",
   "execution_count": 1,
   "id": "84d9dfa3-aea9-4a74-afe6-b7e0f701578b",
   "metadata": {},
   "outputs": [
    {
     "name": "stdout",
     "output_type": "stream",
     "text": [
      "the value of bool1 and bool2 is  False\n",
      "the value of bool1 or bool2 is  True\n",
      "the value of not bool2 is  True\n"
     ]
    }
   ],
   "source": [
    "''' logical operatr'''\n",
    "bool1 = True\n",
    "bool2 = False\n",
    "print('the value of bool1 and bool2 is ' , bool1 and bool2)\n",
    "print('the value of bool1 or bool2 is ' , bool1 or bool2)\n",
    "print('the value of not bool2 is ' , not bool2)\n"
   ]
  },
  {
   "cell_type": "code",
   "execution_count": 3,
   "id": "a6bc54ca-3b86-4629-88e0-cba5f7e00d21",
   "metadata": {},
   "outputs": [
    {
     "name": "stdout",
     "output_type": "stream",
     "text": [
      "3457\n"
     ]
    }
   ],
   "source": [
    "''' typecasting (conversion of one datatype to another)'''\n",
    "a = \"3452\"\n",
    "a = int(a) # converts string a , to integer a.\n",
    "print(a+5)"
   ]
  },
  {
   "cell_type": "code",
   "execution_count": 4,
   "id": "b5d6ce34-f49d-4327-85e3-5634eaff42e2",
   "metadata": {},
   "outputs": [
    {
     "name": "stdin",
     "output_type": "stream",
     "text": [
      "enter ur name: Prajkt\n"
     ]
    },
    {
     "name": "stdout",
     "output_type": "stream",
     "text": [
      "Prajkt\n"
     ]
    }
   ],
   "source": [
    "''' input func'''\n",
    "a = input(\"enter ur name:\") # REMEMBER here the type of a, will be string\n",
    "print(a)\n"
   ]
  },
  {
   "cell_type": "code",
   "execution_count": 5,
   "id": "701f8879-1f50-4c0f-825b-8a057c7f2b30",
   "metadata": {},
   "outputs": [],
   "source": [
    "# Modulo operator '%' (5%2 gives 1 as remainder)\n"
   ]
  },
  {
   "cell_type": "code",
   "execution_count": 3,
   "id": "a8ad3fc1-cc0b-4d45-b6cc-6f3ab45adb5b",
   "metadata": {},
   "outputs": [
    {
     "name": "stdin",
     "output_type": "stream",
     "text": [
      "enter 1st number: 3\n",
      "enter 2nd number: 4\n"
     ]
    },
    {
     "name": "stdout",
     "output_type": "stream",
     "text": [
      "the avg of two no.: 3.5\n"
     ]
    }
   ],
   "source": [
    "''' Example Avg of two no. (typecasting is used here) '''\n",
    "a = input('enter 1st number:')\n",
    "b = input('enter 2nd number:')\n",
    "a = int(a)\n",
    "b = int(b)\n",
    "print('the avg of two no.:' , (a+b)/2)"
   ]
  },
  {
   "cell_type": "code",
   "execution_count": 2,
   "id": "8c616641-1f8f-4ad5-868a-c99dec48d37b",
   "metadata": {},
   "outputs": [
    {
     "name": "stdout",
     "output_type": "stream",
     "text": [
      "good Morning ,Prajkt\n",
      "P\n",
      "Praj\n",
      "Praj\n",
      "Prajkt\n",
      "ajk\n",
      "ajk\n",
      "Prajkt\n",
      "Pak\n",
      "Pak\n",
      "Pa\n"
     ]
    }
   ],
   "source": [
    "''' STRINGS '''\n",
    "# seee use of strings from notes\n",
    "''' String Slicing'''\n",
    "greeting = 'good Morning ,' #Concatenating two strings\n",
    "name = 'Prajkt'\n",
    "a = greeting + name\n",
    "print(a)\n",
    "print(name[0]) # Indexing\n",
    "# name[3] ='d' ---> does not work i.e, kisi string ka character access toh kr sakte ho , but change nhi kr sakte\n",
    "\n",
    "#Slicing\n",
    "print(name[0:4])\n",
    "print(name[:4])\n",
    "print(name[0:])\n",
    "# We use negative indexing when we dont know the length of the string\n",
    "print(name[-4:-1]) # is same as name[2:5]\n",
    "print(name[2:5])\n",
    "# Slicing with skip value\n",
    "print(name[0::1])\n",
    "print(name[0::2])\n",
    "print(name[0:6:2])\n",
    "print(name[0:4:2])"
   ]
  },
  {
   "cell_type": "code",
   "execution_count": 25,
   "id": "91b4a053-0f9e-46ec-b346-a00bc48251ae",
   "metadata": {},
   "outputs": [
    {
     "name": "stdout",
     "output_type": "stream",
     "text": [
      "87\n",
      "True\n",
      "False\n",
      "False\n",
      "1\n",
      "6\n",
      "Once upon a time there was a youtuber named harry who uploaded python course with notes\n",
      "44\n",
      "once upon a time there was a youtuber named CodeWithHarry who uploaded python course with notes\n"
     ]
    }
   ],
   "source": [
    "'''String Functions'''\n",
    "story = 'once upon a time there was a youtuber named harry who uploaded python course with notes'\n",
    "print(len(story))\n",
    "print(story.endswith('notes'))\n",
    "print(story.endswith('abc'))\n",
    "print(story.endswith('abc'))\n",
    "print(story.count('wa'))\n",
    "print(story.count('a'))\n",
    "print(story.capitalize())\n",
    "print(story.find('harry'))\n",
    "print(story.replace('harry' , 'CodeWithHarry'))"
   ]
  },
  {
   "cell_type": "code",
   "execution_count": 30,
   "id": "6884815e-4d56-47bd-b66d-d49247cfcc15",
   "metadata": {},
   "outputs": [
    {
     "name": "stdout",
     "output_type": "stream",
     "text": [
      "Prajkt is good.\n",
      "He is very \tgood \n"
     ]
    }
   ],
   "source": [
    "'''Escape sequence'''\n",
    "story = 'Prajkt is good.\\nHe is very \\tgood '\n",
    "print(story)"
   ]
  },
  {
   "cell_type": "code",
   "execution_count": 33,
   "id": "d106825d-8096-4e08-9f9e-586bdce3b241",
   "metadata": {},
   "outputs": [
    {
     "name": "stdin",
     "output_type": "stream",
     "text": [
      "enter ur name: Prajkt\n"
     ]
    },
    {
     "name": "stdout",
     "output_type": "stream",
     "text": [
      "Good morning, Prajkt\n"
     ]
    }
   ],
   "source": [
    "'''Example'''\n",
    "greeting = 'Good morning, '\n",
    "a = input('enter ur name:')\n",
    "print(greeting + a)"
   ]
  },
  {
   "cell_type": "code",
   "execution_count": 2,
   "id": "6710c778-ad32-4d0a-8641-dde18b43f5b8",
   "metadata": {},
   "outputs": [
    {
     "name": "stdin",
     "output_type": "stream",
     "text": [
      "enter ur name\n",
      " Prajkt\n",
      "enter date\n",
      " 29 May\n"
     ]
    },
    {
     "name": "stdout",
     "output_type": "stream",
     "text": [
      " Dear Prajkt ,\n",
      "You are selected !\n",
      "Date : 29 May\n",
      "\n"
     ]
    }
   ],
   "source": [
    "'''Example'''\n",
    "letter = ''' Dear NAME ,\n",
    "You are selected !\n",
    "Date : DATE\n",
    "'''\n",
    "name = input('enter ur name\\n')\n",
    "date = input('enter date\\n')\n",
    "letter = letter.replace('NAME', name)\n",
    "letter = letter.replace('DATE', date)\n",
    "print(letter)"
   ]
  },
  {
   "cell_type": "code",
   "execution_count": 12,
   "id": "3df2a942-df3d-4dd1-9bb3-0933d8221331",
   "metadata": {},
   "outputs": [
    {
     "name": "stdout",
     "output_type": "stream",
     "text": [
      "[1, 2, 4, 56, 6]\n",
      "56\n",
      "[98, 2, 4, 56, 6]\n",
      "[45, 'Prajkt', False, 6.9]\n"
     ]
    }
   ],
   "source": [
    "'''list and Tuples'''\n",
    "a = [1,2,4,56,6] # creating a list using [] \n",
    "print(a)\n",
    "print(a[3]) # access using index using a[0] , a[1] ....\n",
    "a[0]= 98 # change the value of list\n",
    "print(a)\n",
    "# We can create a list with items of different datatypes\n",
    "c = [45,'Prajkt',False,6.9]\n",
    "print(c)"
   ]
  },
  {
   "cell_type": "code",
   "execution_count": 13,
   "id": "835d500b-5d17-4c06-9487-673bac4f4939",
   "metadata": {},
   "outputs": [
    {
     "name": "stdout",
     "output_type": "stream",
     "text": [
      "['Prajkt', 'Sam', 'Ileana', 'Chaman']\n",
      "['Ileana', 'Chaman', 'Chutiya', 45]\n"
     ]
    }
   ],
   "source": [
    "'''List Slicing'''\n",
    "friends = ['Prajkt' , 'Sam' , 'Ileana' , 'Chaman' , 'Chutiya' , 45]\n",
    "print(friends[0:4])\n",
    "print(friends[-4:])"
   ]
  },
  {
   "cell_type": "code",
   "execution_count": 10,
   "id": "e146cb4a-524a-49cc-9b16-0b101e7b7efe",
   "metadata": {},
   "outputs": [
    {
     "name": "stdout",
     "output_type": "stream",
     "text": [
      "[1, 8, 7, 2, 21, 15, 1]\n",
      "[1, 8, 2, 21, 15, 1]\n",
      "2\n",
      "3\n"
     ]
    }
   ],
   "source": [
    "'''Sorting'''\n",
    "l1 = [1,8,7,2,21,15,1]\n",
    "print(l1)\n",
    "#l1_sorted = l1.sort() # hum (l1_sorted =) use nhi kr sakte , none output milega, correct one is shown below \n",
    "#print(l1_sorted)\n",
    "#l1.sort()\n",
    "#l1.reverse()\n",
    "#l1.append(45)\n",
    "#l1.append(85)\n",
    "#l1.insert(1,544)\n",
    "# l1.insert(0,544)\n",
    "l1.pop(2)\n",
    "#l1.remove(21)\n",
    "print(l1)\n",
    "print(l1.count(1))\n",
    "print(l1.index(21))\n"
   ]
  },
  {
   "cell_type": "code",
   "execution_count": 6,
   "id": "fae4f791-a9b7-49fe-8d54-51c28ac29c5c",
   "metadata": {},
   "outputs": [
    {
     "name": "stdout",
     "output_type": "stream",
     "text": [
      "1\n",
      "(1,)\n"
     ]
    }
   ],
   "source": [
    "'''tuple''' # tuple is also a list but u cannot update them\n",
    "t = (1,2,4,5)\n",
    "print(t[0])\n",
    "# t[0] = 12 u cannot do this\n",
    "#t1 = () empty tuple # it will show error\n",
    "#t1 = (1) aise single element ka tuple create nhi kr sakte, correct way is shown below\n",
    "t1 = (1,)\n",
    "print(t1)"
   ]
  },
  {
   "cell_type": "code",
   "execution_count": 35,
   "id": "639e5273-b850-49e4-ab60-bbe23d190286",
   "metadata": {
    "tags": []
   },
   "outputs": [
    {
     "name": "stdout",
     "output_type": "stream",
     "text": [
      "4\n",
      "9\n"
     ]
    }
   ],
   "source": [
    "'''tuple methods'''\n",
    "t = (1,2,3,4,5,1,3,7,8,91,1,1)\n",
    "print(t.count(1))\n",
    "print(t.index(91))"
   ]
  },
  {
   "cell_type": "code",
   "execution_count": 12,
   "id": "f5f9ef9e-60c4-4ddc-b1bd-8991d5164700",
   "metadata": {},
   "outputs": [
    {
     "name": "stdin",
     "output_type": "stream",
     "text": [
      "Enter fruit 1 mango\n",
      "Enter fruit 2 apple\n",
      "Enter fruit 3 sweet lemon\n"
     ]
    },
    {
     "name": "stdout",
     "output_type": "stream",
     "text": [
      "['mango', 'apple', 'sweet lemon']\n"
     ]
    }
   ],
   "source": [
    "''' Example '''\n",
    "f1 = input('Enter fruit 1')\n",
    "f2 = input('Enter fruit 2')\n",
    "f3 = input('Enter fruit 3')\n",
    "myFruitList = [f1,f2,f3]\n",
    "print(myFruitList)"
   ]
  },
  {
   "cell_type": "code",
   "execution_count": 4,
   "id": "47ffa75b-2804-48e3-9c85-bdf96571bb38",
   "metadata": {},
   "outputs": [
    {
     "name": "stdin",
     "output_type": "stream",
     "text": [
      "Enter marks of student1 : 21\n",
      "Enter marks of student2 : 18\n",
      "Enter marks of student3 : 19\n"
     ]
    },
    {
     "name": "stdout",
     "output_type": "stream",
     "text": [
      "[18, 19, 21]\n"
     ]
    }
   ],
   "source": [
    "m1 = int(input('Enter marks of student1 :'))\n",
    "m2 = int(input('Enter marks of student2 :'))\n",
    "m3 = int(input('Enter marks of student3 :'))\n",
    "MarksList = [m1,m2,m3]\n",
    "MarksList.sort()\n",
    "print(MarksList)\n"
   ]
  },
  {
   "cell_type": "code",
   "execution_count": 6,
   "id": "72b7c307-b37d-48cc-9e8c-0e74bb61debf",
   "metadata": {},
   "outputs": [
    {
     "name": "stdout",
     "output_type": "stream",
     "text": [
      "15\n",
      "15\n"
     ]
    }
   ],
   "source": [
    "''' Example to Sum elements of list '''\n",
    "a = [5,5,3,2]\n",
    "print(a[0]+a[1]+a[2]+a[3])\n",
    "print(sum(a)) # Here sum function is used directly"
   ]
  },
  {
   "cell_type": "code",
   "execution_count": 10,
   "id": "af7d8bd8-3b5f-4771-b013-bf5922c99ede",
   "metadata": {},
   "outputs": [
    {
     "name": "stdout",
     "output_type": "stream",
     "text": [
      "[1, [4, 7], 5]\n"
     ]
    },
    {
     "data": {
      "text/plain": [
       "\"print(type(myDict.keys())) # type is dict_keys\\n#print(list(myDict.keys())) # conversion from type dict_keys to type list and prints keys\\nprint(myDict.values())\\nprint(myDict.items()) #prints (key,value) for all content of the dictionary\\nupdateDict = {\\n    'Lovish' : 'Friend',\\n    'Sam' : 'Friend',\\n    'Prajkt' : 'A Dancer'\\n}\\nmyDict.update(updateDict)\\nprint(myDict)\\n# the difference between .get and [] syntax in Dictionaries\\nprint(myDict.get('Prajkt'))\\nprint(myDict.get('Prajkt2')) # Returns None as Prajkt2 is not present in the dictionary(important)\\n# print(myDict['Prajkt2']) # Throws error as Prajkt2 is not present in the dictionary\""
      ]
     },
     "execution_count": 10,
     "metadata": {},
     "output_type": "execute_result"
    }
   ],
   "source": [
    "'''Dictionary'''# collection of key value pair\n",
    "#syntax\n",
    "myDict = {\n",
    "    'Fast' : 'In a Quick manner',\n",
    "    'Prajkt':'A Coder',\n",
    "    'Marks' : [1,2,5],\n",
    "    'AnotherDict' : {'Prajkt':'Player'}, #nested Dictionary\n",
    "    1 : [2]\n",
    "    \n",
    "\n",
    "}\n",
    "#print(myDict['Fast'])\n",
    "#print(myDict['Prajkt'])\n",
    "#myDict['Marks'] = [45,78]\n",
    "#myDict['Marks'][1] = [4,7]\n",
    "#print(myDict['Marks'])\n",
    "#print(myDict['AnotherDict']['Prajkt'])\n",
    "'''Dictionary Methods'''\n",
    "'''print(type(myDict.keys())) # type is dict_keys\n",
    "#print(list(myDict.keys())) # conversion from type dict_keys to type list and prints keys\n",
    "print(myDict.values())\n",
    "print(myDict.items()) #prints (key,value) for all content of the dictionary\n",
    "updateDict = {\n",
    "    'Lovish' : 'Friend',\n",
    "    'Sam' : 'Friend',\n",
    "    'Prajkt' : 'A Dancer'\n",
    "}\n",
    "myDict.update(updateDict)\n",
    "print(myDict)\n",
    "# the difference between .get and [] syntax in Dictionaries\n",
    "print(myDict.get('Prajkt'))\n",
    "print(myDict.get('Prajkt2')) # Returns None as Prajkt2 is not present in the dictionary(important)\n",
    "# print(myDict['Prajkt2']) # Throws error as Prajkt2 is not present in the dictionary'''\n",
    "\n",
    "\n"
   ]
  },
  {
   "cell_type": "code",
   "execution_count": 1,
   "id": "b47cbc52-86f4-47a4-b211-d26fbb40061c",
   "metadata": {},
   "outputs": [],
   "source": [
    "\"\"\" Lambda & Map Function\"\"\"\n",
    "mul = lambda x,y: x*y\n"
   ]
  },
  {
   "cell_type": "code",
   "execution_count": 2,
   "id": "8ece863b-013b-40fa-be4f-c6fb6d6f6297",
   "metadata": {},
   "outputs": [
    {
     "data": {
      "text/plain": [
       "18"
      ]
     },
     "execution_count": 2,
     "metadata": {},
     "output_type": "execute_result"
    }
   ],
   "source": [
    "mul(2,9)"
   ]
  },
  {
   "cell_type": "code",
   "execution_count": 3,
   "id": "6919ec9c-d95c-494c-820b-7318841224dd",
   "metadata": {},
   "outputs": [],
   "source": [
    "result = map(lambda x:x*2,[1,2,3,4,5])         #map(function,iterate)"
   ]
  },
  {
   "cell_type": "code",
   "execution_count": 7,
   "id": "1986182c-e135-4536-a395-d256f1c34777",
   "metadata": {},
   "outputs": [
    {
     "name": "stdout",
     "output_type": "stream",
     "text": [
      "[2, 4, 6, 8, 10]\n"
     ]
    }
   ],
   "source": [
    "print(list(result))"
   ]
  },
  {
   "cell_type": "code",
   "execution_count": 21,
   "id": "899be877-84a0-404a-85d8-dc9161730cf4",
   "metadata": {},
   "outputs": [],
   "source": [
    "l = [[1,3],[2,6],[8,18],[15,10]]\n",
    "l.sort()"
   ]
  },
  {
   "cell_type": "code",
   "execution_count": 22,
   "id": "9c94f868-3def-4141-a72c-fcaf3c16eaa2",
   "metadata": {},
   "outputs": [
    {
     "data": {
      "text/plain": [
       "[[1, 3], [2, 6], [8, 18], [15, 10]]"
      ]
     },
     "execution_count": 22,
     "metadata": {},
     "output_type": "execute_result"
    }
   ],
   "source": [
    "l"
   ]
  },
  {
   "cell_type": "code",
   "execution_count": 12,
   "id": "05c926ab-599a-4ed7-afbc-c8cd500590d5",
   "metadata": {},
   "outputs": [
    {
     "data": {
      "text/plain": [
       "1"
      ]
     },
     "execution_count": 12,
     "metadata": {},
     "output_type": "execute_result"
    }
   ],
   "source": [
    "min(1,2)"
   ]
  },
  {
   "cell_type": "code",
   "execution_count": 36,
   "id": "7ef32f93-9e75-42e7-8c14-873c8ded0316",
   "metadata": {},
   "outputs": [],
   "source": [
    "def merge(intervals):\n",
    "        \"\"\"\n",
    "        :type intervals: List[List[int]]\n",
    "        :rtype: List[List[int]]\n",
    "        \"\"\"\n",
    "        \n",
    "        intervals.sort()\n",
    "        rslt = [intervals[0]]\n",
    "        \n",
    "        for rangee in intervals:\n",
    "            if rslt[-1][1]>rangee[0]:\n",
    "                rslt[-1] = [min(rslt[-1][0], rangee[0]), max(rslt[-1][1], rangee[1])]\n",
    "            else:\n",
    "                rslt.append(rangee)\n",
    "        if len(rslt)==1:\n",
    "            return rslt[0]\n",
    "        return rslt"
   ]
  },
  {
   "cell_type": "code",
   "execution_count": 37,
   "id": "dac6c875-8131-4064-90a8-14a7bb0b4aff",
   "metadata": {},
   "outputs": [
    {
     "name": "stdout",
     "output_type": "stream",
     "text": [
      "[[1, 2], [3, 8], [8, 10], [12, 16]]\n"
     ]
    }
   ],
   "source": [
    "print(merge([[1,2],[3,5],[4,8],[6,7],[8,10],[12,16]]))"
   ]
  },
  {
   "cell_type": "code",
   "execution_count": 30,
   "id": "c57f8f12-85f0-4d6a-b7cf-488c9b90ce85",
   "metadata": {},
   "outputs": [
    {
     "ename": "NameError",
     "evalue": "name 'at' is not defined",
     "output_type": "error",
     "traceback": [
      "\u001b[1;31m---------------------------------------------------------------------------\u001b[0m",
      "\u001b[1;31mNameError\u001b[0m                                 Traceback (most recent call last)",
      "Cell \u001b[1;32mIn[30], line 1\u001b[0m\n\u001b[1;32m----> 1\u001b[0m l \u001b[38;5;241m=\u001b[39m \u001b[43mat\u001b[49m()\n",
      "\u001b[1;31mNameError\u001b[0m: name 'at' is not defined"
     ]
    }
   ],
   "source": [
    "l = a"
   ]
  },
  {
   "cell_type": "code",
   "execution_count": null,
   "id": "93406ef0-e58e-4cd7-adca-51958eb7bbd9",
   "metadata": {},
   "outputs": [],
   "source": []
  }
 ],
 "metadata": {
  "kernelspec": {
   "display_name": "Python 3 (ipykernel)",
   "language": "python",
   "name": "python3"
  },
  "language_info": {
   "codemirror_mode": {
    "name": "ipython",
    "version": 3
   },
   "file_extension": ".py",
   "mimetype": "text/x-python",
   "name": "python",
   "nbconvert_exporter": "python",
   "pygments_lexer": "ipython3",
   "version": "3.10.9"
  }
 },
 "nbformat": 4,
 "nbformat_minor": 5
}
